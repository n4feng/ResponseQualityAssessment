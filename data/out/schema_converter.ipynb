{
 "cells": [
  {
   "cell_type": "code",
   "execution_count": 15,
   "id": "c37bf45f",
   "metadata": {},
   "outputs": [],
   "source": [
    "import json\n",
    "def load_calibration(filename=\"claims.jsonl\"):\n",
    "    \"\"\"\n",
    "    Reverse of dump_claims.\n",
    "    \"\"\"\n",
    "    with open(filename, \"r\") as fopen:\n",
    "        return json.load(fopen)[\"data\"]\n",
    "def transform_entry(entry, score_type=\"gpt\", annotation_type=\"gpt\"):\n",
    "    transformed = {\n",
    "        \"query\": entry[\"prompt\"],\n",
    "        \"gld_ans\": \"\",\n",
    "        \"response\": entry[\"original-output\"],\n",
    "        \"subclaims\": []\n",
    "    }\n",
    "\n",
    "    for claim in entry[\"claims\"]:\n",
    "        transformed[\"subclaims\"].append({\n",
    "            \"subclaim\": claim[\"subclaim\"].strip(),\n",
    "            \"scores\": [\n",
    "                {\n",
    "                    \"type\": score_type,\n",
    "                    \"score\": claim[score_type+\"-score\"],\n",
    "                }\n",
    "            ],\n",
    "            \"annotations\": [\n",
    "                {\n",
    "                    \"type\": annotation_type,\n",
    "                    \"annotation\": claim[\"annotation\"]\n",
    "                }\n",
    "            ]\n",
    "        })\n",
    "\n",
    "    return transformed"
   ]
  },
  {
   "cell_type": "code",
   "execution_count": null,
   "id": "57b0ad1c",
   "metadata": {},
   "outputs": [],
   "source": [
    "def add_types_for_claim(filename=\"claims.jsonl\", addition_file=\"subclaims.jsonl\", score_type=\"gpt\", annotation_type=\"gpt\"):\n",
    "    \"\"\"\n",
    "    Add types to the claims.\n",
    "    \"\"\"\n",
    "    with open (filename, \"r\") as fopen:\n",
    "        claims = json.load(fopen)\n",
    "    with open(addition_file, \"r\") as fopen:\n",
    "        additional_claims = json.load(fopen)"
   ]
  },
  {
   "cell_type": "code",
   "execution_count": 17,
   "id": "f02ffd4d",
   "metadata": {},
   "outputs": [
    {
     "name": "stdout",
     "output_type": "stream",
     "text": [
      "Loading medlfqav2_subclaims_with_scores.jsonl...\n",
      "Loaded 4856 claims.\n",
      "Processed claims saved to Medlfqav2/medlfqav2_subclaims_with_scores_processed.jsonl.\n"
     ]
    }
   ],
   "source": [
    "import os\n",
    "dataset=\"Medlfqav2\"\n",
    "files = [\"medlfqav2_subclaims_with_scores.jsonl\"]\n",
    "for file in files:\n",
    "    print(f\"Loading {file}...\")\n",
    "    claims = load_calibration(os.path.join(dataset, file))\n",
    "    print(f\"Loaded {len(claims)} claims.\")\n",
    "    transformed_claims = []\n",
    "    for claim in claims:\n",
    "        transformed_claims.append(transform_entry(claim, score_type=\"similarity\", annotation_type=\"gpt\"))\n",
    "    # Save the claims to a new file\n",
    "    output_file = os.path.join(dataset, file.replace(\".jsonl\", \"_processed.jsonl\"))\n",
    "    #dump list to jsonl\n",
    "    with open(output_file, 'w', encoding='utf-8') as f:\n",
    "        json.dump(transformed_claims, f, indent=2, ensure_ascii=False)\n",
    "        \n",
    "    \n",
    "    print(f\"Processed claims saved to {output_file}.\")"
   ]
  },
  {
   "cell_type": "code",
   "execution_count": null,
   "id": "0523e741",
   "metadata": {},
   "outputs": [],
   "source": []
  }
 ],
 "metadata": {
  "kernelspec": {
   "display_name": "Python 3",
   "language": "python",
   "name": "python3"
  },
  "language_info": {
   "codemirror_mode": {
    "name": "ipython",
    "version": 3
   },
   "file_extension": ".py",
   "mimetype": "text/x-python",
   "name": "python",
   "nbconvert_exporter": "python",
   "pygments_lexer": "ipython3",
   "version": "3.11.11"
  }
 },
 "nbformat": 4,
 "nbformat_minor": 5
}
